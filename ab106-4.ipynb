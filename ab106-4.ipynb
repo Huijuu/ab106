{
 "cells": [
  {
   "cell_type": "markdown",
   "metadata": {},
   "source": [
    "1. sqlite\n",
    "2. MySQL\n",
    "3. SQLAlchemy\n",
    "4. MongoDB\n",
    "5. Pandas\n",
    "6. Matplotlib\n",
    "7. Plotly"
   ]
  },
  {
   "cell_type": "code",
   "execution_count": 67,
   "metadata": {
    "collapsed": true
   },
   "outputs": [],
   "source": [
    "import sqlite3\n",
    "import time"
   ]
  },
  {
   "cell_type": "code",
   "execution_count": 81,
   "metadata": {
    "collapsed": true
   },
   "outputs": [],
   "source": [
    "# 建立一個sqlite連線\n",
    "#conn = sqlite3.connect('ptt.db', isolation_level=None) => auto commit mode\n",
    "conn = sqlite3.connect('ptt.db')\n",
    "conn.row_factory = sqlite3.Row"
   ]
  },
  {
   "cell_type": "code",
   "execution_count": 69,
   "metadata": {
    "collapsed": false
   },
   "outputs": [
    {
     "data": {
      "text/plain": [
       "<sqlite3.Cursor at 0x10acd3500>"
      ]
     },
     "execution_count": 69,
     "metadata": {},
     "output_type": "execute_result"
    }
   ],
   "source": [
    "# 執行SQL\n",
    "conn.execute(\"\"\"CREATE TABLE articles\n",
    "             (url VARCHAR PRIMARY KEY,\n",
    "             dt TIMESTAMP,\n",
    "             title VARCHAR,\n",
    "             content TEXT,\n",
    "             board VARCHAR)\"\"\")"
   ]
  },
  {
   "cell_type": "code",
   "execution_count": 70,
   "metadata": {
    "collapsed": false
   },
   "outputs": [
    {
     "data": {
      "text/plain": [
       "<sqlite3.Cursor at 0x1060746c0>"
      ]
     },
     "execution_count": 70,
     "metadata": {},
     "output_type": "execute_result"
    }
   ],
   "source": [
    "data = {\n",
    "    'url': 'https://ptt.cc',\n",
    "    'dt': time.time(),\n",
    "    'title': '爆卦',\n",
    "    'content': 'Python很好玩',\n",
    "    'board': 'Python'\n",
    "}\n",
    "conn.execute(\"\"\"INSERT INTO articles VALUES (:url, :dt, :title, :content, :board)\"\"\", data)"
   ]
  },
  {
   "cell_type": "code",
   "execution_count": 71,
   "metadata": {
    "collapsed": false
   },
   "outputs": [
    {
     "data": {
      "text/plain": [
       "<sqlite3.Cursor at 0x111495c70>"
      ]
     },
     "execution_count": 71,
     "metadata": {},
     "output_type": "execute_result"
    }
   ],
   "source": [
    "data = [{\n",
    "    'url': 'https://ptt.cc/1',\n",
    "    'dt': time.time(),\n",
    "    'title': '爆卦',\n",
    "    'content': 'Python很好玩!!!!!!!!',\n",
    "    'board': 'Python'\n",
    "},{\n",
    "    'url': 'https://ptt.cc/2',\n",
    "    'dt': time.time(),\n",
    "    'title': '爆卦',\n",
    "    'content': 'Python很好玩 :) :)',\n",
    "    'board': 'Python'\n",
    "},{\n",
    "    'url': 'https://ptt.cc/3',\n",
    "    'dt': time.time(),\n",
    "    'title': '爆卦',\n",
    "    'content': 'Python很好玩 yea',\n",
    "    'board': 'Python'\n",
    "}]\n",
    "    \n",
    "conn.executemany(\"\"\"INSERT OR REPLACE INTO articles VALUES (:url, :dt, :title, :content, :board)\"\"\", data)"
   ]
  },
  {
   "cell_type": "code",
   "execution_count": 72,
   "metadata": {
    "collapsed": false
   },
   "outputs": [
    {
     "data": {
      "text/plain": [
       "True"
      ]
     },
     "execution_count": 72,
     "metadata": {},
     "output_type": "execute_result"
    }
   ],
   "source": [
    "conn.in_transaction"
   ]
  },
  {
   "cell_type": "code",
   "execution_count": 73,
   "metadata": {
    "collapsed": true
   },
   "outputs": [],
   "source": [
    "conn.commit()"
   ]
  },
  {
   "cell_type": "code",
   "execution_count": 74,
   "metadata": {
    "collapsed": false
   },
   "outputs": [
    {
     "data": {
      "text/plain": [
       "False"
      ]
     },
     "execution_count": 74,
     "metadata": {},
     "output_type": "execute_result"
    }
   ],
   "source": [
    "conn.in_transaction"
   ]
  },
  {
   "cell_type": "code",
   "execution_count": 75,
   "metadata": {
    "collapsed": false
   },
   "outputs": [
    {
     "data": {
      "text/plain": [
       "<sqlite3.Cursor at 0x108e9f0a0>"
      ]
     },
     "execution_count": 75,
     "metadata": {},
     "output_type": "execute_result"
    }
   ],
   "source": [
    "conn.execute(\"\"\"CREATE INDEX dt_idx ON articles (dt)\"\"\")"
   ]
  },
  {
   "cell_type": "code",
   "execution_count": 76,
   "metadata": {
    "collapsed": true
   },
   "outputs": [],
   "source": [
    "conn.commit()"
   ]
  },
  {
   "cell_type": "code",
   "execution_count": 77,
   "metadata": {
    "collapsed": false
   },
   "outputs": [],
   "source": [
    "cur = conn.execute(\"\"\"SELECT * FROM articles\"\"\")"
   ]
  },
  {
   "cell_type": "code",
   "execution_count": 78,
   "metadata": {
    "collapsed": false,
    "scrolled": true
   },
   "outputs": [
    {
     "name": "stdout",
     "output_type": "stream",
     "text": [
      "<class 'sqlite3.Row'>\n",
      "https://ptt.cc\n",
      "<class 'sqlite3.Row'>\n",
      "https://ptt.cc/1\n",
      "<class 'sqlite3.Row'>\n",
      "https://ptt.cc/2\n",
      "<class 'sqlite3.Row'>\n",
      "https://ptt.cc/3\n"
     ]
    }
   ],
   "source": [
    "for row in cur:\n",
    "    print(type(row))\n",
    "    print(row['url'])"
   ]
  },
  {
   "cell_type": "code",
   "execution_count": 94,
   "metadata": {
    "collapsed": false
   },
   "outputs": [
    {
     "name": "stdout",
     "output_type": "stream",
     "text": [
      "https://ptt.cc/1\n",
      "https://ptt.cc/2\n",
      "https://ptt.cc/3\n"
     ]
    }
   ],
   "source": [
    "#cur = conn.execute(\"\"\"SELECT * FROM articles WHERE dt > ?\"\"\", tuple([1490194193]))\n",
    "cur = conn.execute(\"\"\"SELECT * FROM articles WHERE dt > ?\"\"\", (1490194193,))\n",
    "\n",
    "for row in cur:\n",
    "    print(row['url'])"
   ]
  },
  {
   "cell_type": "code",
   "execution_count": 79,
   "metadata": {
    "collapsed": false
   },
   "outputs": [],
   "source": [
    "conn.close()"
   ]
  },
  {
   "cell_type": "code",
   "execution_count": 80,
   "metadata": {
    "collapsed": false
   },
   "outputs": [
    {
     "ename": "ProgrammingError",
     "evalue": "Cannot operate on a closed database.",
     "output_type": "error",
     "traceback": [
      "\u001b[0;31m---------------------------------------------------------------------------\u001b[0m",
      "\u001b[0;31mProgrammingError\u001b[0m                          Traceback (most recent call last)",
      "\u001b[0;32m<ipython-input-80-fc5e34a06b18>\u001b[0m in \u001b[0;36m<module>\u001b[0;34m()\u001b[0m\n\u001b[0;32m----> 1\u001b[0;31m \u001b[0mconn\u001b[0m\u001b[0;34m.\u001b[0m\u001b[0mexecute\u001b[0m\u001b[0;34m(\u001b[0m\u001b[0;34m\"SELECT * FROM articles\"\u001b[0m\u001b[0;34m)\u001b[0m\u001b[0;34m\u001b[0m\u001b[0m\n\u001b[0m",
      "\u001b[0;31mProgrammingError\u001b[0m: Cannot operate on a closed database."
     ]
    }
   ],
   "source": [
    "conn.execute(\"SELECT * FROM articles\")"
   ]
  },
  {
   "cell_type": "code",
   "execution_count": 11,
   "metadata": {
    "collapsed": false
   },
   "outputs": [],
   "source": [
    "import pandas as pd"
   ]
  },
  {
   "cell_type": "code",
   "execution_count": 14,
   "metadata": {
    "collapsed": false
   },
   "outputs": [],
   "source": [
    "df = pd.read_sql('SELECT * FROM articles', conn)"
   ]
  },
  {
   "cell_type": "code",
   "execution_count": 15,
   "metadata": {
    "collapsed": false
   },
   "outputs": [
    {
     "data": {
      "text/html": [
       "<div>\n",
       "<table border=\"1\" class=\"dataframe\">\n",
       "  <thead>\n",
       "    <tr style=\"text-align: right;\">\n",
       "      <th></th>\n",
       "      <th>url</th>\n",
       "      <th>dt</th>\n",
       "      <th>title</th>\n",
       "      <th>content</th>\n",
       "      <th>board</th>\n",
       "    </tr>\n",
       "  </thead>\n",
       "  <tbody>\n",
       "    <tr>\n",
       "      <th>0</th>\n",
       "      <td>https://ptt.cc</td>\n",
       "      <td>1490192171</td>\n",
       "      <td>爆卦</td>\n",
       "      <td>Python很好玩</td>\n",
       "      <td>Python</td>\n",
       "    </tr>\n",
       "    <tr>\n",
       "      <th>1</th>\n",
       "      <td>https://ptt.cc/1</td>\n",
       "      <td>1490192179</td>\n",
       "      <td>爆卦</td>\n",
       "      <td>Python很好玩!!!!!!!!</td>\n",
       "      <td>Python</td>\n",
       "    </tr>\n",
       "    <tr>\n",
       "      <th>2</th>\n",
       "      <td>https://ptt.cc/2</td>\n",
       "      <td>1490192179</td>\n",
       "      <td>爆卦</td>\n",
       "      <td>Python很好玩 :) :)</td>\n",
       "      <td>Python</td>\n",
       "    </tr>\n",
       "    <tr>\n",
       "      <th>3</th>\n",
       "      <td>https://ptt.cc/3</td>\n",
       "      <td>1490192179</td>\n",
       "      <td>爆卦</td>\n",
       "      <td>Python很好玩 yea</td>\n",
       "      <td>Python</td>\n",
       "    </tr>\n",
       "  </tbody>\n",
       "</table>\n",
       "</div>"
      ],
      "text/plain": [
       "                url          dt title            content   board\n",
       "0    https://ptt.cc  1490192171    爆卦          Python很好玩  Python\n",
       "1  https://ptt.cc/1  1490192179    爆卦  Python很好玩!!!!!!!!  Python\n",
       "2  https://ptt.cc/2  1490192179    爆卦    Python很好玩 :) :)  Python\n",
       "3  https://ptt.cc/3  1490192179    爆卦      Python很好玩 yea  Python"
      ]
     },
     "execution_count": 15,
     "metadata": {},
     "output_type": "execute_result"
    }
   ],
   "source": [
    "df.head()"
   ]
  },
  {
   "cell_type": "code",
   "execution_count": 16,
   "metadata": {
    "collapsed": false
   },
   "outputs": [
    {
     "data": {
      "text/html": [
       "<div>\n",
       "<table border=\"1\" class=\"dataframe\">\n",
       "  <thead>\n",
       "    <tr style=\"text-align: right;\">\n",
       "      <th></th>\n",
       "      <th>url</th>\n",
       "      <th>dt</th>\n",
       "      <th>title</th>\n",
       "      <th>content</th>\n",
       "      <th>board</th>\n",
       "    </tr>\n",
       "  </thead>\n",
       "  <tbody>\n",
       "    <tr>\n",
       "      <th>1</th>\n",
       "      <td>https://ptt.cc/1</td>\n",
       "      <td>1490192179</td>\n",
       "      <td>爆卦</td>\n",
       "      <td>Python很好玩!!!!!!!!</td>\n",
       "      <td>Python</td>\n",
       "    </tr>\n",
       "    <tr>\n",
       "      <th>2</th>\n",
       "      <td>https://ptt.cc/2</td>\n",
       "      <td>1490192179</td>\n",
       "      <td>爆卦</td>\n",
       "      <td>Python很好玩 :) :)</td>\n",
       "      <td>Python</td>\n",
       "    </tr>\n",
       "    <tr>\n",
       "      <th>3</th>\n",
       "      <td>https://ptt.cc/3</td>\n",
       "      <td>1490192179</td>\n",
       "      <td>爆卦</td>\n",
       "      <td>Python很好玩 yea</td>\n",
       "      <td>Python</td>\n",
       "    </tr>\n",
       "  </tbody>\n",
       "</table>\n",
       "</div>"
      ],
      "text/plain": [
       "                url          dt title            content   board\n",
       "1  https://ptt.cc/1  1490192179    爆卦  Python很好玩!!!!!!!!  Python\n",
       "2  https://ptt.cc/2  1490192179    爆卦    Python很好玩 :) :)  Python\n",
       "3  https://ptt.cc/3  1490192179    爆卦      Python很好玩 yea  Python"
      ]
     },
     "execution_count": 16,
     "metadata": {},
     "output_type": "execute_result"
    }
   ],
   "source": [
    "df.query('dt > 1490192178')"
   ]
  },
  {
   "cell_type": "code",
   "execution_count": 20,
   "metadata": {
    "collapsed": false
   },
   "outputs": [
    {
     "data": {
      "text/plain": [
       "5960768708"
      ]
     },
     "execution_count": 20,
     "metadata": {},
     "output_type": "execute_result"
    }
   ],
   "source": [
    "df.dt.sum()"
   ]
  },
  {
   "cell_type": "code",
   "execution_count": 25,
   "metadata": {
    "collapsed": false
   },
   "outputs": [],
   "source": [
    "df = pd.read_csv('./regional_water_consumption.csv', encoding='big5')"
   ]
  },
  {
   "cell_type": "code",
   "execution_count": 27,
   "metadata": {
    "collapsed": false
   },
   "outputs": [
    {
     "data": {
      "text/html": [
       "<div>\n",
       "<table border=\"1\" class=\"dataframe\">\n",
       "  <thead>\n",
       "    <tr style=\"text-align: right;\">\n",
       "      <th></th>\n",
       "      <th>收費年月</th>\n",
       "      <th>一級發布區代碼</th>\n",
       "      <th>用水種別</th>\n",
       "      <th>用水量</th>\n",
       "    </tr>\n",
       "  </thead>\n",
       "  <tbody>\n",
       "    <tr>\n",
       "      <th>0</th>\n",
       "      <td>201601</td>\n",
       "      <td>A0201-01-006</td>\n",
       "      <td>8</td>\n",
       "      <td>502</td>\n",
       "    </tr>\n",
       "    <tr>\n",
       "      <th>1</th>\n",
       "      <td>201601</td>\n",
       "      <td>A0201-03-002</td>\n",
       "      <td>1</td>\n",
       "      <td>4533</td>\n",
       "    </tr>\n",
       "    <tr>\n",
       "      <th>2</th>\n",
       "      <td>201601</td>\n",
       "      <td>A0201-03-002</td>\n",
       "      <td>2</td>\n",
       "      <td>1550</td>\n",
       "    </tr>\n",
       "    <tr>\n",
       "      <th>3</th>\n",
       "      <td>201601</td>\n",
       "      <td>A0201-03-003</td>\n",
       "      <td>1</td>\n",
       "      <td>126</td>\n",
       "    </tr>\n",
       "    <tr>\n",
       "      <th>4</th>\n",
       "      <td>201601</td>\n",
       "      <td>A0201-03-008</td>\n",
       "      <td>8</td>\n",
       "      <td>325</td>\n",
       "    </tr>\n",
       "  </tbody>\n",
       "</table>\n",
       "</div>"
      ],
      "text/plain": [
       "     收費年月       一級發布區代碼  用水種別   用水量\n",
       "0  201601  A0201-01-006     8   502\n",
       "1  201601  A0201-03-002     1  4533\n",
       "2  201601  A0201-03-002     2  1550\n",
       "3  201601  A0201-03-003     1   126\n",
       "4  201601  A0201-03-008     8   325"
      ]
     },
     "execution_count": 27,
     "metadata": {},
     "output_type": "execute_result"
    }
   ],
   "source": [
    "df.head()"
   ]
  },
  {
   "cell_type": "code",
   "execution_count": 28,
   "metadata": {
    "collapsed": false
   },
   "outputs": [
    {
     "data": {
      "text/plain": [
       "(385983, 4)"
      ]
     },
     "execution_count": 28,
     "metadata": {},
     "output_type": "execute_result"
    }
   ],
   "source": [
    "df.shape"
   ]
  },
  {
   "cell_type": "code",
   "execution_count": 30,
   "metadata": {
    "collapsed": false
   },
   "outputs": [],
   "source": [
    "df2 = pd.read_csv('./regional_water_consumption_201607-201612.csv', encoding='big5')"
   ]
  },
  {
   "cell_type": "code",
   "execution_count": 31,
   "metadata": {
    "collapsed": false
   },
   "outputs": [
    {
     "data": {
      "text/html": [
       "<div>\n",
       "<table border=\"1\" class=\"dataframe\">\n",
       "  <thead>\n",
       "    <tr style=\"text-align: right;\">\n",
       "      <th></th>\n",
       "      <th>收費年月</th>\n",
       "      <th>一級發布區代碼</th>\n",
       "      <th>用水種別</th>\n",
       "      <th>用水量</th>\n",
       "    </tr>\n",
       "  </thead>\n",
       "  <tbody>\n",
       "    <tr>\n",
       "      <th>0</th>\n",
       "      <td>201607</td>\n",
       "      <td>A0201-03-002</td>\n",
       "      <td>1</td>\n",
       "      <td>4400</td>\n",
       "    </tr>\n",
       "    <tr>\n",
       "      <th>1</th>\n",
       "      <td>201607</td>\n",
       "      <td>A0201-03-003</td>\n",
       "      <td>1</td>\n",
       "      <td>119</td>\n",
       "    </tr>\n",
       "    <tr>\n",
       "      <th>2</th>\n",
       "      <td>201607</td>\n",
       "      <td>A0201-03-009</td>\n",
       "      <td>1</td>\n",
       "      <td>93</td>\n",
       "    </tr>\n",
       "    <tr>\n",
       "      <th>3</th>\n",
       "      <td>201607</td>\n",
       "      <td>A0201-05-004</td>\n",
       "      <td>1</td>\n",
       "      <td>1</td>\n",
       "    </tr>\n",
       "    <tr>\n",
       "      <th>4</th>\n",
       "      <td>201607</td>\n",
       "      <td>A0201-06-001</td>\n",
       "      <td>1</td>\n",
       "      <td>3457</td>\n",
       "    </tr>\n",
       "  </tbody>\n",
       "</table>\n",
       "</div>"
      ],
      "text/plain": [
       "     收費年月       一級發布區代碼  用水種別   用水量\n",
       "0  201607  A0201-03-002     1  4400\n",
       "1  201607  A0201-03-003     1   119\n",
       "2  201607  A0201-03-009     1    93\n",
       "3  201607  A0201-05-004     1     1\n",
       "4  201607  A0201-06-001     1  3457"
      ]
     },
     "execution_count": 31,
     "metadata": {},
     "output_type": "execute_result"
    }
   ],
   "source": [
    "df2.head()"
   ]
  },
  {
   "cell_type": "code",
   "execution_count": 34,
   "metadata": {
    "collapsed": false
   },
   "outputs": [
    {
     "data": {
      "text/plain": [
       "(388046, 4)"
      ]
     },
     "execution_count": 34,
     "metadata": {},
     "output_type": "execute_result"
    }
   ],
   "source": [
    "df2.shape"
   ]
  },
  {
   "cell_type": "code",
   "execution_count": 35,
   "metadata": {
    "collapsed": true
   },
   "outputs": [],
   "source": [
    "df3 = df.append(df2)"
   ]
  },
  {
   "cell_type": "code",
   "execution_count": 36,
   "metadata": {
    "collapsed": false
   },
   "outputs": [
    {
     "data": {
      "text/plain": [
       "(774029, 4)"
      ]
     },
     "execution_count": 36,
     "metadata": {},
     "output_type": "execute_result"
    }
   ],
   "source": [
    "df3.shape"
   ]
  },
  {
   "cell_type": "code",
   "execution_count": 37,
   "metadata": {
    "collapsed": false
   },
   "outputs": [
    {
     "data": {
      "text/html": [
       "<div>\n",
       "<table border=\"1\" class=\"dataframe\">\n",
       "  <thead>\n",
       "    <tr style=\"text-align: right;\">\n",
       "      <th></th>\n",
       "      <th>收費年月</th>\n",
       "      <th>一級發布區代碼</th>\n",
       "      <th>用水種別</th>\n",
       "      <th>用水量</th>\n",
       "    </tr>\n",
       "  </thead>\n",
       "  <tbody>\n",
       "    <tr>\n",
       "      <th>0</th>\n",
       "      <td>201601</td>\n",
       "      <td>A0201-01-006</td>\n",
       "      <td>8</td>\n",
       "      <td>502</td>\n",
       "    </tr>\n",
       "    <tr>\n",
       "      <th>1</th>\n",
       "      <td>201601</td>\n",
       "      <td>A0201-03-002</td>\n",
       "      <td>1</td>\n",
       "      <td>4533</td>\n",
       "    </tr>\n",
       "    <tr>\n",
       "      <th>2</th>\n",
       "      <td>201601</td>\n",
       "      <td>A0201-03-002</td>\n",
       "      <td>2</td>\n",
       "      <td>1550</td>\n",
       "    </tr>\n",
       "    <tr>\n",
       "      <th>3</th>\n",
       "      <td>201601</td>\n",
       "      <td>A0201-03-003</td>\n",
       "      <td>1</td>\n",
       "      <td>126</td>\n",
       "    </tr>\n",
       "    <tr>\n",
       "      <th>4</th>\n",
       "      <td>201601</td>\n",
       "      <td>A0201-03-008</td>\n",
       "      <td>8</td>\n",
       "      <td>325</td>\n",
       "    </tr>\n",
       "  </tbody>\n",
       "</table>\n",
       "</div>"
      ],
      "text/plain": [
       "     收費年月       一級發布區代碼  用水種別   用水量\n",
       "0  201601  A0201-01-006     8   502\n",
       "1  201601  A0201-03-002     1  4533\n",
       "2  201601  A0201-03-002     2  1550\n",
       "3  201601  A0201-03-003     1   126\n",
       "4  201601  A0201-03-008     8   325"
      ]
     },
     "execution_count": 37,
     "metadata": {},
     "output_type": "execute_result"
    }
   ],
   "source": [
    "df3.head()"
   ]
  },
  {
   "cell_type": "code",
   "execution_count": 38,
   "metadata": {
    "collapsed": false
   },
   "outputs": [
    {
     "data": {
      "text/html": [
       "<div>\n",
       "<table border=\"1\" class=\"dataframe\">\n",
       "  <thead>\n",
       "    <tr style=\"text-align: right;\">\n",
       "      <th></th>\n",
       "      <th>收費年月</th>\n",
       "      <th>一級發布區代碼</th>\n",
       "      <th>用水種別</th>\n",
       "      <th>用水量</th>\n",
       "    </tr>\n",
       "  </thead>\n",
       "  <tbody>\n",
       "    <tr>\n",
       "      <th>388041</th>\n",
       "      <td>201612</td>\n",
       "      <td>A6812-21-007</td>\n",
       "      <td>9</td>\n",
       "      <td>17</td>\n",
       "    </tr>\n",
       "    <tr>\n",
       "      <th>388042</th>\n",
       "      <td>201612</td>\n",
       "      <td>A6812-21-008</td>\n",
       "      <td>9</td>\n",
       "      <td>8</td>\n",
       "    </tr>\n",
       "    <tr>\n",
       "      <th>388043</th>\n",
       "      <td>201612</td>\n",
       "      <td>A6812-21-010</td>\n",
       "      <td>9</td>\n",
       "      <td>55</td>\n",
       "    </tr>\n",
       "    <tr>\n",
       "      <th>388044</th>\n",
       "      <td>201612</td>\n",
       "      <td>A6812-21-011</td>\n",
       "      <td>9</td>\n",
       "      <td>4</td>\n",
       "    </tr>\n",
       "    <tr>\n",
       "      <th>388045</th>\n",
       "      <td>201612</td>\n",
       "      <td>A6812-21-012</td>\n",
       "      <td>9</td>\n",
       "      <td>268</td>\n",
       "    </tr>\n",
       "  </tbody>\n",
       "</table>\n",
       "</div>"
      ],
      "text/plain": [
       "          收費年月       一級發布區代碼  用水種別  用水量\n",
       "388041  201612  A6812-21-007     9   17\n",
       "388042  201612  A6812-21-008     9    8\n",
       "388043  201612  A6812-21-010     9   55\n",
       "388044  201612  A6812-21-011     9    4\n",
       "388045  201612  A6812-21-012     9  268"
      ]
     },
     "execution_count": 38,
     "metadata": {},
     "output_type": "execute_result"
    }
   ],
   "source": [
    "df3.tail()"
   ]
  },
  {
   "cell_type": "code",
   "execution_count": 39,
   "metadata": {
    "collapsed": true
   },
   "outputs": [],
   "source": [
    "df3.to_sql('water', conn)"
   ]
  },
  {
   "cell_type": "code",
   "execution_count": 40,
   "metadata": {
    "collapsed": false
   },
   "outputs": [
    {
     "data": {
      "text/plain": [
       "5569676"
      ]
     },
     "execution_count": 40,
     "metadata": {},
     "output_type": "execute_result"
    }
   ],
   "source": [
    "df3['用水量'].max()"
   ]
  },
  {
   "cell_type": "code",
   "execution_count": 41,
   "metadata": {
    "collapsed": false
   },
   "outputs": [
    {
     "data": {
      "text/plain": [
       "0"
      ]
     },
     "execution_count": 41,
     "metadata": {},
     "output_type": "execute_result"
    }
   ],
   "source": [
    "df3['用水量'].min()"
   ]
  },
  {
   "cell_type": "code",
   "execution_count": 42,
   "metadata": {
    "collapsed": false
   },
   "outputs": [
    {
     "data": {
      "text/plain": [
       "2559.7146605618136"
      ]
     },
     "execution_count": 42,
     "metadata": {},
     "output_type": "execute_result"
    }
   ],
   "source": [
    "df3['用水量'].mean()"
   ]
  },
  {
   "cell_type": "code",
   "execution_count": 43,
   "metadata": {
    "collapsed": false
   },
   "outputs": [
    {
     "data": {
      "text/html": [
       "<div>\n",
       "<table border=\"1\" class=\"dataframe\">\n",
       "  <thead>\n",
       "    <tr style=\"text-align: right;\">\n",
       "      <th></th>\n",
       "      <th>收費年月</th>\n",
       "      <th>一級發布區代碼</th>\n",
       "      <th>用水種別</th>\n",
       "      <th>用水量</th>\n",
       "    </tr>\n",
       "  </thead>\n",
       "  <tbody>\n",
       "    <tr>\n",
       "      <th>16</th>\n",
       "      <td>201601</td>\n",
       "      <td>A0201-06-003</td>\n",
       "      <td>2</td>\n",
       "      <td>0</td>\n",
       "    </tr>\n",
       "    <tr>\n",
       "      <th>20</th>\n",
       "      <td>201601</td>\n",
       "      <td>A0201-06-004</td>\n",
       "      <td>9</td>\n",
       "      <td>0</td>\n",
       "    </tr>\n",
       "    <tr>\n",
       "      <th>71</th>\n",
       "      <td>201601</td>\n",
       "      <td>A0201-09-007</td>\n",
       "      <td>2</td>\n",
       "      <td>0</td>\n",
       "    </tr>\n",
       "    <tr>\n",
       "      <th>72</th>\n",
       "      <td>201601</td>\n",
       "      <td>A0201-09-007</td>\n",
       "      <td>9</td>\n",
       "      <td>0</td>\n",
       "    </tr>\n",
       "    <tr>\n",
       "      <th>137</th>\n",
       "      <td>201601</td>\n",
       "      <td>A0201-13-009</td>\n",
       "      <td>9</td>\n",
       "      <td>0</td>\n",
       "    </tr>\n",
       "    <tr>\n",
       "      <th>193</th>\n",
       "      <td>201601</td>\n",
       "      <td>A0201-18-007</td>\n",
       "      <td>9</td>\n",
       "      <td>0</td>\n",
       "    </tr>\n",
       "    <tr>\n",
       "      <th>225</th>\n",
       "      <td>201601</td>\n",
       "      <td>A0201-20-008</td>\n",
       "      <td>4</td>\n",
       "      <td>0</td>\n",
       "    </tr>\n",
       "    <tr>\n",
       "      <th>249</th>\n",
       "      <td>201601</td>\n",
       "      <td>A0201-23-002</td>\n",
       "      <td>9</td>\n",
       "      <td>0</td>\n",
       "    </tr>\n",
       "    <tr>\n",
       "      <th>392</th>\n",
       "      <td>201601</td>\n",
       "      <td>A0201-33-004</td>\n",
       "      <td>4</td>\n",
       "      <td>0</td>\n",
       "    </tr>\n",
       "    <tr>\n",
       "      <th>434</th>\n",
       "      <td>201601</td>\n",
       "      <td>A0201-36-003</td>\n",
       "      <td>4</td>\n",
       "      <td>0</td>\n",
       "    </tr>\n",
       "    <tr>\n",
       "      <th>437</th>\n",
       "      <td>201601</td>\n",
       "      <td>A0201-36-004</td>\n",
       "      <td>9</td>\n",
       "      <td>0</td>\n",
       "    </tr>\n",
       "    <tr>\n",
       "      <th>452</th>\n",
       "      <td>201601</td>\n",
       "      <td>A0201-37-002</td>\n",
       "      <td>9</td>\n",
       "      <td>0</td>\n",
       "    </tr>\n",
       "    <tr>\n",
       "      <th>462</th>\n",
       "      <td>201601</td>\n",
       "      <td>A0201-37-005</td>\n",
       "      <td>9</td>\n",
       "      <td>0</td>\n",
       "    </tr>\n",
       "    <tr>\n",
       "      <th>556</th>\n",
       "      <td>201601</td>\n",
       "      <td>A0202-11-003</td>\n",
       "      <td>9</td>\n",
       "      <td>0</td>\n",
       "    </tr>\n",
       "    <tr>\n",
       "      <th>578</th>\n",
       "      <td>201601</td>\n",
       "      <td>A0202-13-008</td>\n",
       "      <td>2</td>\n",
       "      <td>0</td>\n",
       "    </tr>\n",
       "    <tr>\n",
       "      <th>628</th>\n",
       "      <td>201601</td>\n",
       "      <td>A0202-23-005</td>\n",
       "      <td>9</td>\n",
       "      <td>0</td>\n",
       "    </tr>\n",
       "    <tr>\n",
       "      <th>635</th>\n",
       "      <td>201601</td>\n",
       "      <td>A0202-24-006</td>\n",
       "      <td>2</td>\n",
       "      <td>0</td>\n",
       "    </tr>\n",
       "    <tr>\n",
       "      <th>665</th>\n",
       "      <td>201601</td>\n",
       "      <td>A0202-29-002</td>\n",
       "      <td>9</td>\n",
       "      <td>0</td>\n",
       "    </tr>\n",
       "    <tr>\n",
       "      <th>673</th>\n",
       "      <td>201601</td>\n",
       "      <td>A0202-29-006</td>\n",
       "      <td>9</td>\n",
       "      <td>0</td>\n",
       "    </tr>\n",
       "    <tr>\n",
       "      <th>684</th>\n",
       "      <td>201601</td>\n",
       "      <td>A0203-02-007</td>\n",
       "      <td>2</td>\n",
       "      <td>0</td>\n",
       "    </tr>\n",
       "    <tr>\n",
       "      <th>709</th>\n",
       "      <td>201601</td>\n",
       "      <td>A0203-04-007</td>\n",
       "      <td>4</td>\n",
       "      <td>0</td>\n",
       "    </tr>\n",
       "    <tr>\n",
       "      <th>715</th>\n",
       "      <td>201601</td>\n",
       "      <td>A0203-04-011</td>\n",
       "      <td>4</td>\n",
       "      <td>0</td>\n",
       "    </tr>\n",
       "    <tr>\n",
       "      <th>751</th>\n",
       "      <td>201601</td>\n",
       "      <td>A0203-09-002</td>\n",
       "      <td>2</td>\n",
       "      <td>0</td>\n",
       "    </tr>\n",
       "    <tr>\n",
       "      <th>814</th>\n",
       "      <td>201601</td>\n",
       "      <td>A0203-14-006</td>\n",
       "      <td>2</td>\n",
       "      <td>0</td>\n",
       "    </tr>\n",
       "    <tr>\n",
       "      <th>824</th>\n",
       "      <td>201601</td>\n",
       "      <td>A0203-14-010</td>\n",
       "      <td>2</td>\n",
       "      <td>0</td>\n",
       "    </tr>\n",
       "    <tr>\n",
       "      <th>848</th>\n",
       "      <td>201601</td>\n",
       "      <td>A0203-16-001</td>\n",
       "      <td>3</td>\n",
       "      <td>0</td>\n",
       "    </tr>\n",
       "    <tr>\n",
       "      <th>883</th>\n",
       "      <td>201601</td>\n",
       "      <td>A0203-21-004</td>\n",
       "      <td>3</td>\n",
       "      <td>0</td>\n",
       "    </tr>\n",
       "    <tr>\n",
       "      <th>911</th>\n",
       "      <td>201601</td>\n",
       "      <td>A0203-22-005</td>\n",
       "      <td>2</td>\n",
       "      <td>0</td>\n",
       "    </tr>\n",
       "    <tr>\n",
       "      <th>912</th>\n",
       "      <td>201601</td>\n",
       "      <td>A0203-22-005</td>\n",
       "      <td>9</td>\n",
       "      <td>0</td>\n",
       "    </tr>\n",
       "    <tr>\n",
       "      <th>965</th>\n",
       "      <td>201601</td>\n",
       "      <td>A0204-02-003</td>\n",
       "      <td>2</td>\n",
       "      <td>0</td>\n",
       "    </tr>\n",
       "    <tr>\n",
       "      <th>...</th>\n",
       "      <td>...</td>\n",
       "      <td>...</td>\n",
       "      <td>...</td>\n",
       "      <td>...</td>\n",
       "    </tr>\n",
       "    <tr>\n",
       "      <th>387747</th>\n",
       "      <td>201612</td>\n",
       "      <td>A6809-06-003</td>\n",
       "      <td>9</td>\n",
       "      <td>0</td>\n",
       "    </tr>\n",
       "    <tr>\n",
       "      <th>387755</th>\n",
       "      <td>201612</td>\n",
       "      <td>A6809-12-003</td>\n",
       "      <td>9</td>\n",
       "      <td>0</td>\n",
       "    </tr>\n",
       "    <tr>\n",
       "      <th>387775</th>\n",
       "      <td>201612</td>\n",
       "      <td>A6809-27-004</td>\n",
       "      <td>9</td>\n",
       "      <td>0</td>\n",
       "    </tr>\n",
       "    <tr>\n",
       "      <th>387788</th>\n",
       "      <td>201612</td>\n",
       "      <td>A6810-09-008</td>\n",
       "      <td>9</td>\n",
       "      <td>0</td>\n",
       "    </tr>\n",
       "    <tr>\n",
       "      <th>387795</th>\n",
       "      <td>201612</td>\n",
       "      <td>A6810-17-004</td>\n",
       "      <td>9</td>\n",
       "      <td>0</td>\n",
       "    </tr>\n",
       "    <tr>\n",
       "      <th>387804</th>\n",
       "      <td>201612</td>\n",
       "      <td>A6810-21-005</td>\n",
       "      <td>9</td>\n",
       "      <td>0</td>\n",
       "    </tr>\n",
       "    <tr>\n",
       "      <th>387810</th>\n",
       "      <td>201612</td>\n",
       "      <td>A6810-23-007</td>\n",
       "      <td>9</td>\n",
       "      <td>0</td>\n",
       "    </tr>\n",
       "    <tr>\n",
       "      <th>387844</th>\n",
       "      <td>201612</td>\n",
       "      <td>A6810-59-004</td>\n",
       "      <td>9</td>\n",
       "      <td>0</td>\n",
       "    </tr>\n",
       "    <tr>\n",
       "      <th>387846</th>\n",
       "      <td>201612</td>\n",
       "      <td>A6810-60-001</td>\n",
       "      <td>9</td>\n",
       "      <td>0</td>\n",
       "    </tr>\n",
       "    <tr>\n",
       "      <th>387847</th>\n",
       "      <td>201612</td>\n",
       "      <td>A6810-60-002</td>\n",
       "      <td>9</td>\n",
       "      <td>0</td>\n",
       "    </tr>\n",
       "    <tr>\n",
       "      <th>387859</th>\n",
       "      <td>201612</td>\n",
       "      <td>A6810-73-001</td>\n",
       "      <td>9</td>\n",
       "      <td>0</td>\n",
       "    </tr>\n",
       "    <tr>\n",
       "      <th>387868</th>\n",
       "      <td>201612</td>\n",
       "      <td>A6811-02-005</td>\n",
       "      <td>9</td>\n",
       "      <td>0</td>\n",
       "    </tr>\n",
       "    <tr>\n",
       "      <th>387888</th>\n",
       "      <td>201612</td>\n",
       "      <td>A6811-06-009</td>\n",
       "      <td>9</td>\n",
       "      <td>0</td>\n",
       "    </tr>\n",
       "    <tr>\n",
       "      <th>387891</th>\n",
       "      <td>201612</td>\n",
       "      <td>A6811-07-006</td>\n",
       "      <td>9</td>\n",
       "      <td>0</td>\n",
       "    </tr>\n",
       "    <tr>\n",
       "      <th>387892</th>\n",
       "      <td>201612</td>\n",
       "      <td>A6811-08-003</td>\n",
       "      <td>9</td>\n",
       "      <td>0</td>\n",
       "    </tr>\n",
       "    <tr>\n",
       "      <th>387910</th>\n",
       "      <td>201612</td>\n",
       "      <td>A6811-13-001</td>\n",
       "      <td>9</td>\n",
       "      <td>0</td>\n",
       "    </tr>\n",
       "    <tr>\n",
       "      <th>387921</th>\n",
       "      <td>201612</td>\n",
       "      <td>A6811-14-002</td>\n",
       "      <td>9</td>\n",
       "      <td>0</td>\n",
       "    </tr>\n",
       "    <tr>\n",
       "      <th>387923</th>\n",
       "      <td>201612</td>\n",
       "      <td>A6811-14-007</td>\n",
       "      <td>9</td>\n",
       "      <td>0</td>\n",
       "    </tr>\n",
       "    <tr>\n",
       "      <th>387925</th>\n",
       "      <td>201612</td>\n",
       "      <td>A6811-14-009</td>\n",
       "      <td>9</td>\n",
       "      <td>0</td>\n",
       "    </tr>\n",
       "    <tr>\n",
       "      <th>387932</th>\n",
       "      <td>201612</td>\n",
       "      <td>A6811-15-006</td>\n",
       "      <td>9</td>\n",
       "      <td>0</td>\n",
       "    </tr>\n",
       "    <tr>\n",
       "      <th>387939</th>\n",
       "      <td>201612</td>\n",
       "      <td>A6811-17-009</td>\n",
       "      <td>9</td>\n",
       "      <td>0</td>\n",
       "    </tr>\n",
       "    <tr>\n",
       "      <th>387942</th>\n",
       "      <td>201612</td>\n",
       "      <td>A6812-01-004</td>\n",
       "      <td>9</td>\n",
       "      <td>0</td>\n",
       "    </tr>\n",
       "    <tr>\n",
       "      <th>387945</th>\n",
       "      <td>201612</td>\n",
       "      <td>A6812-01-008</td>\n",
       "      <td>9</td>\n",
       "      <td>0</td>\n",
       "    </tr>\n",
       "    <tr>\n",
       "      <th>387949</th>\n",
       "      <td>201612</td>\n",
       "      <td>A6812-02-005</td>\n",
       "      <td>9</td>\n",
       "      <td>0</td>\n",
       "    </tr>\n",
       "    <tr>\n",
       "      <th>387965</th>\n",
       "      <td>201612</td>\n",
       "      <td>A6812-04-006</td>\n",
       "      <td>9</td>\n",
       "      <td>0</td>\n",
       "    </tr>\n",
       "    <tr>\n",
       "      <th>387967</th>\n",
       "      <td>201612</td>\n",
       "      <td>A6812-05-003</td>\n",
       "      <td>9</td>\n",
       "      <td>0</td>\n",
       "    </tr>\n",
       "    <tr>\n",
       "      <th>387985</th>\n",
       "      <td>201612</td>\n",
       "      <td>A6812-09-006</td>\n",
       "      <td>9</td>\n",
       "      <td>0</td>\n",
       "    </tr>\n",
       "    <tr>\n",
       "      <th>388020</th>\n",
       "      <td>201612</td>\n",
       "      <td>A6812-16-003</td>\n",
       "      <td>9</td>\n",
       "      <td>0</td>\n",
       "    </tr>\n",
       "    <tr>\n",
       "      <th>388034</th>\n",
       "      <td>201612</td>\n",
       "      <td>A6812-19-009</td>\n",
       "      <td>9</td>\n",
       "      <td>0</td>\n",
       "    </tr>\n",
       "    <tr>\n",
       "      <th>388036</th>\n",
       "      <td>201612</td>\n",
       "      <td>A6812-20-001</td>\n",
       "      <td>9</td>\n",
       "      <td>0</td>\n",
       "    </tr>\n",
       "  </tbody>\n",
       "</table>\n",
       "<p>24594 rows × 4 columns</p>\n",
       "</div>"
      ],
      "text/plain": [
       "          收費年月       一級發布區代碼  用水種別  用水量\n",
       "16      201601  A0201-06-003     2    0\n",
       "20      201601  A0201-06-004     9    0\n",
       "71      201601  A0201-09-007     2    0\n",
       "72      201601  A0201-09-007     9    0\n",
       "137     201601  A0201-13-009     9    0\n",
       "193     201601  A0201-18-007     9    0\n",
       "225     201601  A0201-20-008     4    0\n",
       "249     201601  A0201-23-002     9    0\n",
       "392     201601  A0201-33-004     4    0\n",
       "434     201601  A0201-36-003     4    0\n",
       "437     201601  A0201-36-004     9    0\n",
       "452     201601  A0201-37-002     9    0\n",
       "462     201601  A0201-37-005     9    0\n",
       "556     201601  A0202-11-003     9    0\n",
       "578     201601  A0202-13-008     2    0\n",
       "628     201601  A0202-23-005     9    0\n",
       "635     201601  A0202-24-006     2    0\n",
       "665     201601  A0202-29-002     9    0\n",
       "673     201601  A0202-29-006     9    0\n",
       "684     201601  A0203-02-007     2    0\n",
       "709     201601  A0203-04-007     4    0\n",
       "715     201601  A0203-04-011     4    0\n",
       "751     201601  A0203-09-002     2    0\n",
       "814     201601  A0203-14-006     2    0\n",
       "824     201601  A0203-14-010     2    0\n",
       "848     201601  A0203-16-001     3    0\n",
       "883     201601  A0203-21-004     3    0\n",
       "911     201601  A0203-22-005     2    0\n",
       "912     201601  A0203-22-005     9    0\n",
       "965     201601  A0204-02-003     2    0\n",
       "...        ...           ...   ...  ...\n",
       "387747  201612  A6809-06-003     9    0\n",
       "387755  201612  A6809-12-003     9    0\n",
       "387775  201612  A6809-27-004     9    0\n",
       "387788  201612  A6810-09-008     9    0\n",
       "387795  201612  A6810-17-004     9    0\n",
       "387804  201612  A6810-21-005     9    0\n",
       "387810  201612  A6810-23-007     9    0\n",
       "387844  201612  A6810-59-004     9    0\n",
       "387846  201612  A6810-60-001     9    0\n",
       "387847  201612  A6810-60-002     9    0\n",
       "387859  201612  A6810-73-001     9    0\n",
       "387868  201612  A6811-02-005     9    0\n",
       "387888  201612  A6811-06-009     9    0\n",
       "387891  201612  A6811-07-006     9    0\n",
       "387892  201612  A6811-08-003     9    0\n",
       "387910  201612  A6811-13-001     9    0\n",
       "387921  201612  A6811-14-002     9    0\n",
       "387923  201612  A6811-14-007     9    0\n",
       "387925  201612  A6811-14-009     9    0\n",
       "387932  201612  A6811-15-006     9    0\n",
       "387939  201612  A6811-17-009     9    0\n",
       "387942  201612  A6812-01-004     9    0\n",
       "387945  201612  A6812-01-008     9    0\n",
       "387949  201612  A6812-02-005     9    0\n",
       "387965  201612  A6812-04-006     9    0\n",
       "387967  201612  A6812-05-003     9    0\n",
       "387985  201612  A6812-09-006     9    0\n",
       "388020  201612  A6812-16-003     9    0\n",
       "388034  201612  A6812-19-009     9    0\n",
       "388036  201612  A6812-20-001     9    0\n",
       "\n",
       "[24594 rows x 4 columns]"
      ]
     },
     "execution_count": 43,
     "metadata": {},
     "output_type": "execute_result"
    }
   ],
   "source": [
    "df3[df3['用水量'] == df3['用水量'].min()]"
   ]
  },
  {
   "cell_type": "code",
   "execution_count": 44,
   "metadata": {
    "collapsed": false
   },
   "outputs": [
    {
     "data": {
      "text/html": [
       "<div>\n",
       "<table border=\"1\" class=\"dataframe\">\n",
       "  <thead>\n",
       "    <tr style=\"text-align: right;\">\n",
       "      <th></th>\n",
       "      <th>收費年月</th>\n",
       "      <th>一級發布區代碼</th>\n",
       "      <th>用水種別</th>\n",
       "      <th>用水量</th>\n",
       "    </tr>\n",
       "  </thead>\n",
       "  <tbody>\n",
       "    <tr>\n",
       "      <th>45120</th>\n",
       "      <td>201607</td>\n",
       "      <td>A6411-69-006</td>\n",
       "      <td>3</td>\n",
       "      <td>5569676</td>\n",
       "    </tr>\n",
       "  </tbody>\n",
       "</table>\n",
       "</div>"
      ],
      "text/plain": [
       "         收費年月       一級發布區代碼  用水種別      用水量\n",
       "45120  201607  A6411-69-006     3  5569676"
      ]
     },
     "execution_count": 44,
     "metadata": {},
     "output_type": "execute_result"
    }
   ],
   "source": [
    "df3[df3['用水量'] == df3['用水量'].max()]"
   ]
  },
  {
   "cell_type": "code",
   "execution_count": 65,
   "metadata": {
    "collapsed": false
   },
   "outputs": [
    {
     "data": {
      "text/html": [
       "<div>\n",
       "<table border=\"1\" class=\"dataframe\">\n",
       "  <thead>\n",
       "    <tr style=\"text-align: right;\">\n",
       "      <th></th>\n",
       "      <th>收費年月</th>\n",
       "      <th>用水量</th>\n",
       "    </tr>\n",
       "  </thead>\n",
       "  <tbody>\n",
       "    <tr>\n",
       "      <th>0</th>\n",
       "      <td>201601</td>\n",
       "      <td>502</td>\n",
       "    </tr>\n",
       "    <tr>\n",
       "      <th>1</th>\n",
       "      <td>201601</td>\n",
       "      <td>4533</td>\n",
       "    </tr>\n",
       "    <tr>\n",
       "      <th>2</th>\n",
       "      <td>201601</td>\n",
       "      <td>1550</td>\n",
       "    </tr>\n",
       "    <tr>\n",
       "      <th>3</th>\n",
       "      <td>201601</td>\n",
       "      <td>126</td>\n",
       "    </tr>\n",
       "    <tr>\n",
       "      <th>4</th>\n",
       "      <td>201601</td>\n",
       "      <td>325</td>\n",
       "    </tr>\n",
       "    <tr>\n",
       "      <th>5</th>\n",
       "      <td>201601</td>\n",
       "      <td>88</td>\n",
       "    </tr>\n",
       "    <tr>\n",
       "      <th>6</th>\n",
       "      <td>201601</td>\n",
       "      <td>1</td>\n",
       "    </tr>\n",
       "    <tr>\n",
       "      <th>7</th>\n",
       "      <td>201601</td>\n",
       "      <td>3474</td>\n",
       "    </tr>\n",
       "    <tr>\n",
       "      <th>8</th>\n",
       "      <td>201601</td>\n",
       "      <td>196</td>\n",
       "    </tr>\n",
       "    <tr>\n",
       "      <th>9</th>\n",
       "      <td>201601</td>\n",
       "      <td>47</td>\n",
       "    </tr>\n",
       "    <tr>\n",
       "      <th>10</th>\n",
       "      <td>201601</td>\n",
       "      <td>385</td>\n",
       "    </tr>\n",
       "    <tr>\n",
       "      <th>11</th>\n",
       "      <td>201601</td>\n",
       "      <td>5497</td>\n",
       "    </tr>\n",
       "    <tr>\n",
       "      <th>12</th>\n",
       "      <td>201601</td>\n",
       "      <td>64</td>\n",
       "    </tr>\n",
       "    <tr>\n",
       "      <th>13</th>\n",
       "      <td>201601</td>\n",
       "      <td>951</td>\n",
       "    </tr>\n",
       "    <tr>\n",
       "      <th>14</th>\n",
       "      <td>201601</td>\n",
       "      <td>7</td>\n",
       "    </tr>\n",
       "    <tr>\n",
       "      <th>15</th>\n",
       "      <td>201601</td>\n",
       "      <td>3920</td>\n",
       "    </tr>\n",
       "    <tr>\n",
       "      <th>16</th>\n",
       "      <td>201601</td>\n",
       "      <td>0</td>\n",
       "    </tr>\n",
       "    <tr>\n",
       "      <th>17</th>\n",
       "      <td>201601</td>\n",
       "      <td>188</td>\n",
       "    </tr>\n",
       "    <tr>\n",
       "      <th>18</th>\n",
       "      <td>201601</td>\n",
       "      <td>5452</td>\n",
       "    </tr>\n",
       "    <tr>\n",
       "      <th>19</th>\n",
       "      <td>201601</td>\n",
       "      <td>520</td>\n",
       "    </tr>\n",
       "    <tr>\n",
       "      <th>20</th>\n",
       "      <td>201601</td>\n",
       "      <td>0</td>\n",
       "    </tr>\n",
       "    <tr>\n",
       "      <th>21</th>\n",
       "      <td>201601</td>\n",
       "      <td>3977</td>\n",
       "    </tr>\n",
       "    <tr>\n",
       "      <th>22</th>\n",
       "      <td>201601</td>\n",
       "      <td>2920</td>\n",
       "    </tr>\n",
       "    <tr>\n",
       "      <th>23</th>\n",
       "      <td>201601</td>\n",
       "      <td>4070</td>\n",
       "    </tr>\n",
       "    <tr>\n",
       "      <th>24</th>\n",
       "      <td>201601</td>\n",
       "      <td>2250</td>\n",
       "    </tr>\n",
       "    <tr>\n",
       "      <th>25</th>\n",
       "      <td>201601</td>\n",
       "      <td>166</td>\n",
       "    </tr>\n",
       "    <tr>\n",
       "      <th>26</th>\n",
       "      <td>201601</td>\n",
       "      <td>8105</td>\n",
       "    </tr>\n",
       "    <tr>\n",
       "      <th>27</th>\n",
       "      <td>201601</td>\n",
       "      <td>248</td>\n",
       "    </tr>\n",
       "    <tr>\n",
       "      <th>28</th>\n",
       "      <td>201601</td>\n",
       "      <td>7801</td>\n",
       "    </tr>\n",
       "    <tr>\n",
       "      <th>29</th>\n",
       "      <td>201601</td>\n",
       "      <td>19</td>\n",
       "    </tr>\n",
       "    <tr>\n",
       "      <th>...</th>\n",
       "      <td>...</td>\n",
       "      <td>...</td>\n",
       "    </tr>\n",
       "    <tr>\n",
       "      <th>388016</th>\n",
       "      <td>201612</td>\n",
       "      <td>39</td>\n",
       "    </tr>\n",
       "    <tr>\n",
       "      <th>388017</th>\n",
       "      <td>201612</td>\n",
       "      <td>3</td>\n",
       "    </tr>\n",
       "    <tr>\n",
       "      <th>388018</th>\n",
       "      <td>201612</td>\n",
       "      <td>11</td>\n",
       "    </tr>\n",
       "    <tr>\n",
       "      <th>388019</th>\n",
       "      <td>201612</td>\n",
       "      <td>21</td>\n",
       "    </tr>\n",
       "    <tr>\n",
       "      <th>388020</th>\n",
       "      <td>201612</td>\n",
       "      <td>0</td>\n",
       "    </tr>\n",
       "    <tr>\n",
       "      <th>388021</th>\n",
       "      <td>201612</td>\n",
       "      <td>76</td>\n",
       "    </tr>\n",
       "    <tr>\n",
       "      <th>388022</th>\n",
       "      <td>201612</td>\n",
       "      <td>2</td>\n",
       "    </tr>\n",
       "    <tr>\n",
       "      <th>388023</th>\n",
       "      <td>201612</td>\n",
       "      <td>111</td>\n",
       "    </tr>\n",
       "    <tr>\n",
       "      <th>388024</th>\n",
       "      <td>201612</td>\n",
       "      <td>76</td>\n",
       "    </tr>\n",
       "    <tr>\n",
       "      <th>388025</th>\n",
       "      <td>201612</td>\n",
       "      <td>120</td>\n",
       "    </tr>\n",
       "    <tr>\n",
       "      <th>388026</th>\n",
       "      <td>201612</td>\n",
       "      <td>17</td>\n",
       "    </tr>\n",
       "    <tr>\n",
       "      <th>388027</th>\n",
       "      <td>201612</td>\n",
       "      <td>63</td>\n",
       "    </tr>\n",
       "    <tr>\n",
       "      <th>388028</th>\n",
       "      <td>201612</td>\n",
       "      <td>108</td>\n",
       "    </tr>\n",
       "    <tr>\n",
       "      <th>388029</th>\n",
       "      <td>201612</td>\n",
       "      <td>114</td>\n",
       "    </tr>\n",
       "    <tr>\n",
       "      <th>388030</th>\n",
       "      <td>201612</td>\n",
       "      <td>25</td>\n",
       "    </tr>\n",
       "    <tr>\n",
       "      <th>388031</th>\n",
       "      <td>201612</td>\n",
       "      <td>40</td>\n",
       "    </tr>\n",
       "    <tr>\n",
       "      <th>388032</th>\n",
       "      <td>201612</td>\n",
       "      <td>4</td>\n",
       "    </tr>\n",
       "    <tr>\n",
       "      <th>388033</th>\n",
       "      <td>201612</td>\n",
       "      <td>5</td>\n",
       "    </tr>\n",
       "    <tr>\n",
       "      <th>388034</th>\n",
       "      <td>201612</td>\n",
       "      <td>0</td>\n",
       "    </tr>\n",
       "    <tr>\n",
       "      <th>388035</th>\n",
       "      <td>201612</td>\n",
       "      <td>26</td>\n",
       "    </tr>\n",
       "    <tr>\n",
       "      <th>388036</th>\n",
       "      <td>201612</td>\n",
       "      <td>0</td>\n",
       "    </tr>\n",
       "    <tr>\n",
       "      <th>388037</th>\n",
       "      <td>201612</td>\n",
       "      <td>89</td>\n",
       "    </tr>\n",
       "    <tr>\n",
       "      <th>388038</th>\n",
       "      <td>201612</td>\n",
       "      <td>38</td>\n",
       "    </tr>\n",
       "    <tr>\n",
       "      <th>388039</th>\n",
       "      <td>201612</td>\n",
       "      <td>123</td>\n",
       "    </tr>\n",
       "    <tr>\n",
       "      <th>388040</th>\n",
       "      <td>201612</td>\n",
       "      <td>510</td>\n",
       "    </tr>\n",
       "    <tr>\n",
       "      <th>388041</th>\n",
       "      <td>201612</td>\n",
       "      <td>17</td>\n",
       "    </tr>\n",
       "    <tr>\n",
       "      <th>388042</th>\n",
       "      <td>201612</td>\n",
       "      <td>8</td>\n",
       "    </tr>\n",
       "    <tr>\n",
       "      <th>388043</th>\n",
       "      <td>201612</td>\n",
       "      <td>55</td>\n",
       "    </tr>\n",
       "    <tr>\n",
       "      <th>388044</th>\n",
       "      <td>201612</td>\n",
       "      <td>4</td>\n",
       "    </tr>\n",
       "    <tr>\n",
       "      <th>388045</th>\n",
       "      <td>201612</td>\n",
       "      <td>268</td>\n",
       "    </tr>\n",
       "  </tbody>\n",
       "</table>\n",
       "<p>774029 rows × 2 columns</p>\n",
       "</div>"
      ],
      "text/plain": [
       "          收費年月   用水量\n",
       "0       201601   502\n",
       "1       201601  4533\n",
       "2       201601  1550\n",
       "3       201601   126\n",
       "4       201601   325\n",
       "5       201601    88\n",
       "6       201601     1\n",
       "7       201601  3474\n",
       "8       201601   196\n",
       "9       201601    47\n",
       "10      201601   385\n",
       "11      201601  5497\n",
       "12      201601    64\n",
       "13      201601   951\n",
       "14      201601     7\n",
       "15      201601  3920\n",
       "16      201601     0\n",
       "17      201601   188\n",
       "18      201601  5452\n",
       "19      201601   520\n",
       "20      201601     0\n",
       "21      201601  3977\n",
       "22      201601  2920\n",
       "23      201601  4070\n",
       "24      201601  2250\n",
       "25      201601   166\n",
       "26      201601  8105\n",
       "27      201601   248\n",
       "28      201601  7801\n",
       "29      201601    19\n",
       "...        ...   ...\n",
       "388016  201612    39\n",
       "388017  201612     3\n",
       "388018  201612    11\n",
       "388019  201612    21\n",
       "388020  201612     0\n",
       "388021  201612    76\n",
       "388022  201612     2\n",
       "388023  201612   111\n",
       "388024  201612    76\n",
       "388025  201612   120\n",
       "388026  201612    17\n",
       "388027  201612    63\n",
       "388028  201612   108\n",
       "388029  201612   114\n",
       "388030  201612    25\n",
       "388031  201612    40\n",
       "388032  201612     4\n",
       "388033  201612     5\n",
       "388034  201612     0\n",
       "388035  201612    26\n",
       "388036  201612     0\n",
       "388037  201612    89\n",
       "388038  201612    38\n",
       "388039  201612   123\n",
       "388040  201612   510\n",
       "388041  201612    17\n",
       "388042  201612     8\n",
       "388043  201612    55\n",
       "388044  201612     4\n",
       "388045  201612   268\n",
       "\n",
       "[774029 rows x 2 columns]"
      ]
     },
     "execution_count": 65,
     "metadata": {},
     "output_type": "execute_result"
    }
   ],
   "source": [
    "df3.loc[:,['收費年月', '用水量']]"
   ]
  },
  {
   "cell_type": "code",
   "execution_count": 66,
   "metadata": {
    "collapsed": false
   },
   "outputs": [
    {
     "data": {
      "text/html": [
       "<div>\n",
       "<table border=\"1\" class=\"dataframe\">\n",
       "  <thead>\n",
       "    <tr style=\"text-align: right;\">\n",
       "      <th></th>\n",
       "      <th>用水量</th>\n",
       "    </tr>\n",
       "    <tr>\n",
       "      <th>收費年月</th>\n",
       "      <th></th>\n",
       "    </tr>\n",
       "  </thead>\n",
       "  <tbody>\n",
       "    <tr>\n",
       "      <th>201601</th>\n",
       "      <td>160276683</td>\n",
       "    </tr>\n",
       "    <tr>\n",
       "      <th>201602</th>\n",
       "      <td>148401113</td>\n",
       "    </tr>\n",
       "    <tr>\n",
       "      <th>201603</th>\n",
       "      <td>143786708</td>\n",
       "    </tr>\n",
       "    <tr>\n",
       "      <th>201604</th>\n",
       "      <td>155289443</td>\n",
       "    </tr>\n",
       "    <tr>\n",
       "      <th>201605</th>\n",
       "      <td>161298493</td>\n",
       "    </tr>\n",
       "    <tr>\n",
       "      <th>201606</th>\n",
       "      <td>165722774</td>\n",
       "    </tr>\n",
       "    <tr>\n",
       "      <th>201607</th>\n",
       "      <td>175637322</td>\n",
       "    </tr>\n",
       "    <tr>\n",
       "      <th>201608</th>\n",
       "      <td>172619609</td>\n",
       "    </tr>\n",
       "    <tr>\n",
       "      <th>201609</th>\n",
       "      <td>181399482</td>\n",
       "    </tr>\n",
       "    <tr>\n",
       "      <th>201610</th>\n",
       "      <td>171486061</td>\n",
       "    </tr>\n",
       "    <tr>\n",
       "      <th>201611</th>\n",
       "      <td>169737629</td>\n",
       "    </tr>\n",
       "    <tr>\n",
       "      <th>201612</th>\n",
       "      <td>175638062</td>\n",
       "    </tr>\n",
       "  </tbody>\n",
       "</table>\n",
       "</div>"
      ],
      "text/plain": [
       "              用水量\n",
       "收費年月             \n",
       "201601  160276683\n",
       "201602  148401113\n",
       "201603  143786708\n",
       "201604  155289443\n",
       "201605  161298493\n",
       "201606  165722774\n",
       "201607  175637322\n",
       "201608  172619609\n",
       "201609  181399482\n",
       "201610  171486061\n",
       "201611  169737629\n",
       "201612  175638062"
      ]
     },
     "execution_count": 66,
     "metadata": {},
     "output_type": "execute_result"
    }
   ],
   "source": [
    "df3.loc[:,['收費年月', '用水量']].groupby('收費年月').sum()"
   ]
  },
  {
   "cell_type": "code",
   "execution_count": null,
   "metadata": {
    "collapsed": true
   },
   "outputs": [],
   "source": []
  }
 ],
 "metadata": {
  "kernelspec": {
   "display_name": "Python 3",
   "language": "python",
   "name": "python3"
  },
  "language_info": {
   "codemirror_mode": {
    "name": "ipython",
    "version": 3
   },
   "file_extension": ".py",
   "mimetype": "text/x-python",
   "name": "python",
   "nbconvert_exporter": "python",
   "pygments_lexer": "ipython3",
   "version": "3.6.0"
  }
 },
 "nbformat": 4,
 "nbformat_minor": 2
}
